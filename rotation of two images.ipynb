{
 "cells": [
  {
   "cell_type": "markdown",
   "id": "6c07b841",
   "metadata": {},
   "source": [
    "Transformations.\n",
    "Rotation, translation and skew are useful operations for matching, tracking, and data augmentation"
   ]
  },
  {
   "cell_type": "code",
   "execution_count": null,
   "id": "983c9a08",
   "metadata": {},
   "outputs": [],
   "source": [
    "import pandas as pd \n",
    "import numpy as np\n",
    "import matplotlib.pyplot as plt\n",
    "import math\n",
    "import cv2"
   ]
  },
  {
   "cell_type": "code",
   "execution_count": null,
   "id": "18cb4379",
   "metadata": {},
   "outputs": [],
   "source": [
    "#img = plt.matshow('test.jpg')\n",
    "img_b = plt.imread('name.jpg')"
   ]
  },
  {
   "cell_type": "code",
   "execution_count": null,
   "id": "b1645239",
   "metadata": {},
   "outputs": [],
   "source": [
    "plt.imshow(img_b)        #plotting the image "
   ]
  },
  {
   "cell_type": "markdown",
   "id": "aac186b5",
   "metadata": {},
   "source": [
    "# 1(a)"
   ]
  },
  {
   "cell_type": "markdown",
   "id": "ae74766b",
   "metadata": {},
   "source": [
    "Write a function that takes as input an image I, rotates it by an angle θ1 and horizontally skews it by\n",
    "an angle, θ2. Write the matrix formulation for image rotation R(.) and skewing S(.). Define all the\n",
    "variables. Note that the origin of the coordinate system of the programming environment you use\n",
    "might be different from the one shown in the lectures. "
   ]
  },
  {
   "cell_type": "code",
   "execution_count": null,
   "id": "48ec7070",
   "metadata": {},
   "outputs": [],
   "source": [
    "def ICV_ro_skew(img, rot, skew):\n",
    "    # Define the most occuring variables\n",
    "    angle=math.radians(rot)                               #converting degrees to radians\n",
    "    cosine=math.cos(rot)\n",
    "    sine=math.sin(rot)\n",
    "    height=img.shape[0]                                   #define the height of the image\n",
    "    width=img.shape[1]                                    #define the width of the image\n",
    "\n",
    "   \n",
    "    # define another image variable of dimensions of new_height and new _column filled with zeros\n",
    "    rot_output=np.zeros((img.shape[0],img.shape[1],img.shape[2]))\n",
    "    \n",
    "    skew_angle = math.radians(skew)\n",
    "    skew_output=np.zeros((img.shape[0],img.shape[1],img.shape[2]))\n",
    "\n",
    "    # Find the centre of the image about which we have to rotate the image\n",
    "    original_centre_height   = round(((img.shape[0]+1)/2)-1)    #with respect to the original image\n",
    "    original_centre_width    = round(((img.shape[1]+1)/2)-1)    #with respect to the original image\n",
    "\n",
    "   \n",
    "    for i in range(height):\n",
    "        for j in range(width):\n",
    "            #co-ordinates of pixel with respect to the centre of original image\n",
    "            x=img.shape[0]-1-i-original_centre_height                   \n",
    "            y=img.shape[1]-1-j-original_centre_width    \n",
    "        \n",
    "            input_matrix = np.array([x,y])\n",
    "        \n",
    "            function = np.array([[cosine, -sine],    #creating a rotation matrix\n",
    "                             [sine, cosine]])\n",
    "        \n",
    "            new_co = np.matmul(function, input_matrix)      #using matmul operation performing rotation on the image\n",
    "        \n",
    "            new_x = int(new_co[0])\n",
    "            new_y = int(new_co[1])\n",
    "\n",
    "            '''since image will be rotated the centre will change too, \n",
    "               so to adust to that we will need to change new_x and new_y with respect to the new centre'''\n",
    "            new_x=original_centre_height-new_x\n",
    "            new_y=original_centre_width-new_y\n",
    "\n",
    "            # adding if check to prevent any errors in the processing\n",
    "            if 0 <= new_x < img.shape[0] and 0 <= new_y < img.shape[1] and new_x>=0 and new_y>=0:\n",
    "                rot_output[new_x,new_y,:]=img[i,j,:]                          \n",
    "    \n",
    "    for i in range(height):\n",
    "        for j in range(width):\n",
    "            \n",
    "            skew_input_matrix = np.array([i,j])\n",
    "        \n",
    "            skew_param = 0                    \n",
    "            try:\n",
    "                skew_param = 1/math.tan(math.radians(skew))         #using directly in the matrix is creating one divided by zero problem\n",
    "            except:\n",
    "                pass \n",
    "            skew_function = np.array([[1, skew_param],              #creating skew matrix\n",
    "                             [0, 1]])\n",
    "        \n",
    "            new_co = np.matmul(skew_function, skew_input_matrix)   #using matmul operation performing skew on the image\n",
    "        \n",
    "            new_x = int(new_co[0])\n",
    "            new_y = int(new_co[1])\n",
    "\n",
    "           \n",
    "\n",
    "        # adding if check to prevent any errors in the processing\n",
    "     #   we are clipping off the unwanted pixels\n",
    "            if 0 <= new_x < img.shape[0] and 0 <= new_y < img.shape[1] and new_x>=0 and new_y>=0:\n",
    "                skew_output[new_x,new_y,:]=rot_output[i,j,:]                          #writing the pixels to the new destination in the output image\n",
    "    \n",
    "    \n",
    "    \n",
    "    return skew_output\n"
   ]
  },
  {
   "cell_type": "markdown",
   "id": "03d99931",
   "metadata": {},
   "source": [
    "# 1(b)"
   ]
  },
  {
   "cell_type": "markdown",
   "id": "50a44745",
   "metadata": {},
   "source": [
    " Create an image that contains your name written in Arial, point 72, capital letters. Rotate clockwise\n",
    "the image you created by 30, 60, 120 and -50 degrees. Skew the same image by 10, 40 and 60\n",
    "degrees. Complete the process so that all the pixels have a value. Discuss in the report the\n",
    "advantages and disadvantages of different approaches."
   ]
  },
  {
   "cell_type": "code",
   "execution_count": null,
   "id": "52bfd0bb",
   "metadata": {
    "scrolled": false
   },
   "outputs": [],
   "source": [
    "\n",
    "#Display the image\n",
    "\n",
    "plt.imshow(img_b)#, plt.title('IMG')\n",
    "\n",
    "ro_angles=(30,60,120,-50)   #providng diffrent rotation angle\n",
    "for x in ro_angles:         #iterating between diffrent rotation angle\n",
    "    plt.imshow(ICV_ro_skew(img_b, x, 0))\n",
    "    plt.show()\n",
    "    \n",
    "skew_angles=(10,40,60)     #providng diffrent skew angle\n",
    "for y in skew_angles:      #iterating between diffrent skew angle\n",
    "    plt.imshow(ICV_ro_skew(img_b, 0, y))\n",
    "    plt.show()\n",
    "    "
   ]
  },
  {
   "cell_type": "markdown",
   "id": "82a57f38",
   "metadata": {},
   "source": [
    "# 1(c)"
   ]
  },
  {
   "cell_type": "markdown",
   "id": "9c86dad3",
   "metadata": {},
   "source": [
    "Analyse the results when you change the order of the two operators: R(S(I)) and S(R(I)).\n",
    "i) Rotate the image by θ1 = 20 clockwise and then skew the result by θ2 = 50.\n",
    "ii) Skew the image by θ2 = 50 and then rotate the result by θ1 = 20 clockwise.\n",
    "Are the results of (i) and (ii) the same? Why?\n"
   ]
  },
  {
   "cell_type": "code",
   "execution_count": null,
   "id": "cada56d2",
   "metadata": {},
   "outputs": [],
   "source": [
    "# Rotate the image by θ1 = 20 clockwise and then skew the result by θ2 = 50\n",
    "plt.imshow(ICV_ro_skew(ICV_ro_skew(img_b,20, 0),0, 50))   \n",
    "plt.show()\n",
    "\n",
    "\n",
    "#Skew the image by θ2 = 50 and then rotate the result by θ1 = 20 clockwise\n",
    "plt.imshow(ICV_ro_skew(ICV_ro_skew(img_b,0, 50),20,0)) \n",
    "plt.show()  "
   ]
  },
  {
   "cell_type": "code",
   "execution_count": null,
   "id": "7e7100b7",
   "metadata": {},
   "outputs": [],
   "source": []
  },
  {
   "cell_type": "code",
   "execution_count": null,
   "id": "18c3305e",
   "metadata": {},
   "outputs": [],
   "source": []
  },
  {
   "cell_type": "code",
   "execution_count": null,
   "id": "8f80d7e0",
   "metadata": {},
   "outputs": [],
   "source": []
  }
 ],
 "metadata": {
  "kernelspec": {
   "display_name": "Python 3",
   "language": "python",
   "name": "python3"
  },
  "language_info": {
   "codemirror_mode": {
    "name": "ipython",
    "version": 3
   },
   "file_extension": ".py",
   "mimetype": "text/x-python",
   "name": "python",
   "nbconvert_exporter": "python",
   "pygments_lexer": "ipython3",
   "version": "3.8.8"
  }
 },
 "nbformat": 4,
 "nbformat_minor": 5
}
